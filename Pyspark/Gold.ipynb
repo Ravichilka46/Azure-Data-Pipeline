{
 "cells": [
  {
   "cell_type": "code",
   "execution_count": 0,
   "metadata": {
    "application/vnd.databricks.v1+cell": {
     "cellMetadata": {
      "byteLimit": 2048000,
      "rowLimit": 10000
     },
     "inputWidgets": {},
     "nuid": "f3e86ee7-4db0-49ca-89f4-2a1100fd807a",
     "showTitle": false,
     "title": ""
    },
    "jupyter": {
     "outputs_hidden": true
    }
   },
   "outputs": [
    {
     "output_type": "stream",
     "name": "stdout",
     "output_type": "stream",
     "text": [
      "Out[2]: True"
     ]
    }
   ],
   "source": [
    "dbutils.fs.mount(\n",
    "   source = \"wasbs://gold@mrkdatalake123.blob.core.windows.net\",\n",
    "   mount_point = \"/mnt/gold\",\n",
    "   extra_configs = {\"fs.azure.account.key.mrkdatalake123.blob.core.windows.net\":\"GGaxfo5HiZTDHOZAW6P+Gw1Y5AG70fznqoFeekBc6b0YWIUMAe3Wgy/y4Vy8ch5sWyONnuz3kVX4+AStec4m9A==\"})"
   ]
  },
  {
   "cell_type": "code",
   "execution_count": 0,
   "metadata": {
    "application/vnd.databricks.v1+cell": {
     "cellMetadata": {
      "byteLimit": 2048000,
      "rowLimit": 10000
     },
     "inputWidgets": {},
     "nuid": "596dd73b-518f-43cb-977a-894e0df0d319",
     "showTitle": false,
     "title": ""
    }
   },
   "outputs": [
    {
     "output_type": "stream",
     "name": "stdout",
     "output_type": "stream",
     "text": [
      "Out[4]: []"
     ]
    }
   ],
   "source": [
    "dbutils.fs.ls(\"/mnt/gold\")"
   ]
  },
  {
   "cell_type": "code",
   "execution_count": 0,
   "metadata": {
    "application/vnd.databricks.v1+cell": {
     "cellMetadata": {
      "byteLimit": 2048000,
      "rowLimit": 10000
     },
     "inputWidgets": {},
     "nuid": "195eb4a7-f804-401e-a422-b2057183510c",
     "showTitle": false,
     "title": ""
    }
   },
   "outputs": [
    {
     "output_type": "stream",
     "name": "stdout",
     "output_type": "stream",
     "text": [
      "['Address', 'Customer', 'CustomerAddress', 'Product', 'ProductCategory', 'ProductDescription', 'ProductModel', 'ProductModelProductDescription', 'SalesOrderDetail', 'SalesOrderHeader']\n"
     ]
    }
   ],
   "source": [
    "table_name=[]\n",
    "\n",
    "for i in dbutils.fs.ls('mnt/silver/SalesLT/'):\n",
    "    table_name.append(i.name.split('/')[0])\n",
    "\n",
    "print(table_name)"
   ]
  },
  {
   "cell_type": "code",
   "execution_count": 0,
   "metadata": {
    "application/vnd.databricks.v1+cell": {
     "cellMetadata": {
      "byteLimit": 2048000,
      "rowLimit": 10000
     },
     "inputWidgets": {},
     "nuid": "085fa054-bcb0-4b87-b6ae-6eed40455d8f",
     "showTitle": false,
     "title": ""
    }
   },
   "outputs": [],
   "source": [
    "from pyspark.sql import SparkSession\n",
    "from pyspark.sql.functions import col,regexp_replace\n",
    "\n",
    "\n",
    "for i in  table_name:\n",
    "    path='/mnt/silver/SalesLT/'+i\n",
    "    df=spark.read.format('delta').load(path)\n",
    "    column_names = df.columns\n",
    "    \n",
    "    for old_col in column_names:\n",
    "        new_col=\"\".join([\"_\" + char if char.isupper() and not old_col[i-1].isupper() else char for i,char in enumerate (old_col)]).lstrip(\"_\")\n",
    "        df=df.withColumnRenamed(old_col,new_col)\n",
    "\n",
    "    output_path= '/mnt/gold/SalesLT/'+i+'/'\n",
    "    df.write.format('delta').mode(\"overwrite\").save(output_path)\n",
    "\n"
   ]
  },
  {
   "cell_type": "code",
   "execution_count": 0,
   "metadata": {
    "application/vnd.databricks.v1+cell": {
     "cellMetadata": {},
     "inputWidgets": {},
     "nuid": "ec9b1174-3cc9-4e07-8284-6832808d4d2b",
     "showTitle": false,
     "title": ""
    }
   },
   "outputs": [],
   "source": []
  },
  {
   "cell_type": "code",
   "execution_count": 0,
   "metadata": {
    "application/vnd.databricks.v1+cell": {
     "cellMetadata": {},
     "inputWidgets": {},
     "nuid": "c53e44c2-b162-4d16-8213-feaa9de653b6",
     "showTitle": false,
     "title": ""
    }
   },
   "outputs": [],
   "source": []
  },
  {
   "cell_type": "code",
   "execution_count": 0,
   "metadata": {
    "application/vnd.databricks.v1+cell": {
     "cellMetadata": {},
     "inputWidgets": {},
     "nuid": "ce3d522d-4978-4c9b-bd38-5308cb049e21",
     "showTitle": false,
     "title": ""
    }
   },
   "outputs": [],
   "source": []
  },
  {
   "cell_type": "code",
   "execution_count": 0,
   "metadata": {
    "application/vnd.databricks.v1+cell": {
     "cellMetadata": {},
     "inputWidgets": {},
     "nuid": "04839155-d4d6-410f-8e34-743abbb35e75",
     "showTitle": false,
     "title": ""
    }
   },
   "outputs": [],
   "source": []
  },
  {
   "cell_type": "code",
   "execution_count": 0,
   "metadata": {
    "application/vnd.databricks.v1+cell": {
     "cellMetadata": {},
     "inputWidgets": {},
     "nuid": "5ba74380-103a-40b1-95c8-c5724d03a482",
     "showTitle": false,
     "title": ""
    }
   },
   "outputs": [],
   "source": []
  }
 ],
 "metadata": {
  "application/vnd.databricks.v1+notebook": {
   "dashboards": [],
   "language": "python",
   "notebookMetadata": {
    "pythonIndentUnit": 4
   },
   "notebookName": "Gold",
   "widgets": {}
  }
 },
 "nbformat": 4,
 "nbformat_minor": 0
}
